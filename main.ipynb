{
  "cells": [
    {
      "cell_type": "markdown",
      "metadata": {
        "id": "view-in-github",
        "colab_type": "text"
      },
      "source": [
        "<a href=\"https://colab.research.google.com/github/mcucii/TextToImageGeneration_StackGAN/blob/main/main.ipynb\" target=\"_parent\"><img src=\"https://colab.research.google.com/assets/colab-badge.svg\" alt=\"Open In Colab\"/></a>"
      ]
    },
    {
      "cell_type": "code",
      "execution_count": 1,
      "metadata": {
        "colab": {
          "base_uri": "https://localhost:8080/"
        },
        "id": "QXmRuWBRdjuJ",
        "outputId": "368ffb4a-79fd-4a64-b0c8-73078e477744"
      },
      "outputs": [
        {
          "output_type": "stream",
          "name": "stdout",
          "text": [
            "Mounted at /content/drive\n"
          ]
        }
      ],
      "source": [
        "from google.colab import drive\n",
        "drive.mount('/content/drive')"
      ]
    },
    {
      "cell_type": "code",
      "execution_count": 2,
      "metadata": {
        "id": "zaIR_4PudtmL"
      },
      "outputs": [],
      "source": [
        "import os\n",
        "os.chdir('/content/drive/MyDrive/RIProject')"
      ]
    },
    {
      "cell_type": "code",
      "execution_count": 3,
      "metadata": {
        "id": "SXUwtfV4dwMb"
      },
      "outputs": [],
      "source": [
        "import config as cfg\n",
        "from dataset import TextImageDataset\n",
        "from stage1 import GANTrainer_stage1\n",
        "from stage2 import GANTrainer_stage2"
      ]
    },
    {
      "cell_type": "code",
      "execution_count": 4,
      "metadata": {
        "id": "HhOIhPNhUUJ2"
      },
      "outputs": [],
      "source": [
        "import torchvision.transforms as transforms\n",
        "from torch.utils.data import DataLoader"
      ]
    },
    {
      "cell_type": "code",
      "execution_count": 5,
      "metadata": {
        "id": "k3Z6PjUKaTuH"
      },
      "outputs": [],
      "source": [
        "class Args:\n",
        "    train = 'y'\n",
        "    stage = 1\n",
        "\n",
        "if Args.stage == 1:\n",
        "    cfg.IMG_SIZE = 64\n",
        "else:\n",
        "    cfg.IMG_SIZE = 256\n",
        "\n",
        "cfg.STAGE = Args.stage\n",
        "\n",
        "if Args.train == \"y\":\n",
        "    cfg.TRAIN = True\n",
        "else:\n",
        "    cfg.NET_G = \"../data/birds/models/netG_epoch_360.pth\"\n",
        "    cfg.TRAIN = False\n",
        "\n",
        "output_dir = '../output/birds'"
      ]
    },
    {
      "cell_type": "code",
      "execution_count": 6,
      "metadata": {
        "id": "ddsVitDTRDV2"
      },
      "outputs": [],
      "source": [
        "def train():\n",
        "  image_transform = transforms.Compose([\n",
        "      transforms.RandomResizedCrop(cfg.IMG_SIZE),  # Randomly crop and resize the image\n",
        "      transforms.RandomHorizontalFlip(),         # Randomly flip the image horizontally\n",
        "      transforms.ColorJitter(),                  # Randomly adjust brightness, contrast, saturation, and hue\n",
        "      transforms.ToTensor(),                     # Convert the image to a PyTorch tensor\n",
        "      transforms.Normalize((0.5, 0.5, 0.5), (0.5, 0.5, 0.5))  # Normalize the image\n",
        "  ])\n",
        "  dataset = TextImageDataset(cfg.DATA_DIR, 'train', input_transform=image_transform)\n",
        "  dataset_size = len(dataset)\n",
        "  #print(f\"Veličina skupa podataka: {dataset_size}\")\n",
        "\n",
        "  dataloader = DataLoader(dataset, batch_size=cfg.TRAIN_BATCH_SIZE, drop_last=True, shuffle=False, num_workers=4)\n",
        "  batch_size = dataloader.batch_size\n",
        "  #print(f\"Veličina batch-a: {batch_size}\")\n",
        "\n",
        "  num_batches_per_epoch = len(dataloader)\n",
        "  #print(f\"Broj batch-eva po epohi: {num_batches_per_epoch}\")\n",
        "\n",
        "  if Args.stage == 1:\n",
        "    trainer = GANTrainer_stage1(output_dir)\n",
        "  else:\n",
        "    trainer = GANTrainer_stage2(output_dir)\n",
        "\n",
        "  trainer.train(dataloader)"
      ]
    },
    {
      "cell_type": "code",
      "execution_count": 7,
      "metadata": {
        "id": "jqMVmWdsRLSD"
      },
      "outputs": [],
      "source": [
        "def test():\n",
        "  # TODO\n",
        "  pass"
      ]
    },
    {
      "cell_type": "code",
      "execution_count": 8,
      "metadata": {
        "id": "-e2VLo2HcCto"
      },
      "outputs": [],
      "source": [
        "\n",
        "def main():\n",
        "\n",
        "  if Args.train == 0:\n",
        "    cfg.TRAIN = False  # True by default (train)\n",
        "    # todo: test\n",
        "    #cfg.NET_G = \"?\"  # NET_G -> pre-trained model:\n",
        "  else:\n",
        "    cfg.TRAIN = True\n",
        "\n",
        "  if Args.stage == 1:\n",
        "    cfg.IMG_SIZE = 64\n",
        "    cfg.STAGE = 1\n",
        "  else :\n",
        "    cfg.IMG_SIZE = 256\n",
        "    cfg.STAGE = 2\n",
        "\n",
        "  output_dir = '../output/birds'\n",
        "\n",
        "\n",
        "  if cfg.TRAIN:\n",
        "    train()\n",
        "  # else:\n",
        "  #   test()\n"
      ]
    },
    {
      "cell_type": "code",
      "execution_count": 9,
      "metadata": {
        "colab": {
          "base_uri": "https://localhost:8080/"
        },
        "id": "OAogAIgN8CXF",
        "outputId": "74f4a44f-397a-454c-9483-511525fde91a"
      },
      "outputs": [
        {
          "output_type": "stream",
          "name": "stderr",
          "text": [
            "/usr/local/lib/python3.10/dist-packages/torch/utils/data/dataloader.py:558: UserWarning: This DataLoader will create 4 worker processes in total. Our suggested max number of worker in current system is 2, which is smaller than what this DataLoader is going to create. Please be aware that excessive worker creation might get DataLoader running slow or even freeze, lower the worker number to avoid potential slowness/freeze if necessary.\n",
            "  warnings.warn(_create_warning_msg(\n"
          ]
        },
        {
          "output_type": "stream",
          "name": "stdout",
          "text": [
            "Save G/D models\n",
            "Save G/D models\n",
            "Save G/D models\n",
            "Save G/D models\n",
            "Save G/D models\n",
            "Save G/D models\n",
            "Save G/D models\n",
            "Save G/D models\n",
            "Save G/D models\n",
            "Save G/D models\n",
            "Save G/D models\n",
            "Save G/D models\n",
            "Save G/D models\n",
            "Save G/D models\n",
            "Save G/D models\n",
            "Save G/D models\n",
            "Save G/D models\n",
            "Save G/D models\n",
            "Save G/D models\n",
            "Save G/D models\n",
            "Save G/D models\n",
            "Save G/D models\n",
            "Save G/D models\n",
            "Save G/D models\n",
            "Save G/D models\n",
            "Save G/D models\n",
            "Save G/D models\n",
            "Save G/D models\n",
            "Save G/D models\n",
            "Save G/D models\n",
            "Save G/D models\n",
            "Save G/D models\n",
            "Save G/D models\n",
            "Save G/D models\n",
            "Save G/D models\n",
            "Save G/D models\n",
            "Save G/D models\n",
            "Save G/D models\n",
            "Save G/D models\n",
            "Save G/D models\n",
            "Save G/D models\n",
            "Save G/D models\n",
            "Save G/D models\n",
            "Save G/D models\n",
            "Save G/D models\n",
            "Save G/D models\n",
            "Save G/D models\n",
            "Save G/D models\n",
            "Save G/D models\n",
            "Save G/D models\n",
            "Save G/D models\n",
            "Save G/D models\n",
            "Save G/D models\n",
            "Save G/D models\n",
            "Save G/D models\n",
            "Save G/D models\n",
            "Save G/D models\n",
            "Save G/D models\n",
            "Save G/D models\n",
            "Save G/D models\n",
            "Save G/D models\n",
            "Save G/D models\n",
            "Save G/D models\n",
            "Save G/D models\n",
            "Save G/D models\n",
            "Save G/D models\n",
            "Save G/D models\n",
            "Save G/D models\n",
            "Save G/D models\n",
            "Save G/D models\n",
            "Save G/D models\n",
            "Save G/D models\n",
            "Save G/D models\n",
            "Save G/D models\n",
            "Save G/D models\n",
            "Save G/D models\n",
            "Save G/D models\n",
            "Save G/D models\n",
            "Save G/D models\n",
            "Save G/D models\n",
            "Save G/D models\n",
            "Save G/D models\n",
            "Save G/D models\n",
            "Save G/D models\n",
            "Save G/D models\n",
            "Save G/D models\n",
            "Save G/D models\n",
            "Save G/D models\n",
            "Save G/D models\n",
            "Save G/D models\n",
            "Save G/D models\n",
            "Save G/D models\n",
            "Save G/D models\n",
            "Save G/D models\n",
            "Save G/D models\n",
            "Save G/D models\n",
            "Save G/D models\n",
            "Save G/D models\n",
            "Save G/D models\n",
            "Save G/D models\n"
          ]
        }
      ],
      "source": [
        "main()"
      ]
    },
    {
      "cell_type": "code",
      "execution_count": 9,
      "metadata": {
        "id": "_nNU0WRqA59T"
      },
      "outputs": [],
      "source": []
    },
    {
      "cell_type": "code",
      "source": [
        "\n",
        "\n"
      ],
      "metadata": {
        "id": "3JCnng59JF9Q"
      },
      "execution_count": 9,
      "outputs": []
    }
  ],
  "metadata": {
    "colab": {
      "provenance": [],
      "gpuType": "T4",
      "authorship_tag": "ABX9TyMzGoJY/QTqvjQBggiVPyBe",
      "include_colab_link": true
    },
    "kernelspec": {
      "display_name": "Python 3",
      "name": "python3"
    },
    "language_info": {
      "name": "python"
    },
    "accelerator": "GPU"
  },
  "nbformat": 4,
  "nbformat_minor": 0
}